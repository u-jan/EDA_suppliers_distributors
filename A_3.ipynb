{
 "cells": [
  {
   "cell_type": "markdown",
   "metadata": {},
   "source": [
    "## Task 3\n",
    "\n",
    "Company X works with a distribution partner to store, pick and pack their goods. They are currently in negotiations to **reduce distribution costs by 10% per unit on orders of quantity 3 or more**. Company X wants to understand the downstream impacts on their **gross margin as a percentage of monthly sales**. Please use the attached dataset titled ‘Company X - Q3’ to help them. Note: in this case gross margin is calculated as (Sales Revenue + Shipping Revenue) - (Cost of Goods Sold + Distribution Costs + Shipping Costs). **Distribution costs are allocated on a per unit basis and are uniform**, regardless of sku sold."
   ]
  },
  {
   "cell_type": "markdown",
   "metadata": {},
   "source": [
    "**gross margin is calculated as (Sales Revenue + Shipping Revenue) - (Cost of Goods Sold + Distribution Costs + Shipping Costs)**"
   ]
  },
  {
   "cell_type": "markdown",
   "metadata": {},
   "source": [
    "**Assumption** It is noted that costs are allocated on a per unit basis only for distribution costs. Therefore I will assume all other stated revenues and costs are total per order.\n",
    "\n",
    "**Critical Reminder:** 10% cost reduction **PER UNIT** not on total **distribution cost**\n",
    "\n",
    "- get the cost reduction per unit\n",
    "- get the new distribution cost\n",
    "- compare it old distribution cost\n",
    "- create a column for the difference\n",
    "- create a column for % change of cost per deal (and demonstrate overal as well)\n",
    "- create a column for % change of gross marjin per deal (and demonstrate overall as well)\n",
    "- demonstrate the impact on gross margin as a percentage of sales and get a column for that"
   ]
  },
  {
   "cell_type": "markdown",
   "metadata": {},
   "source": [
    "**Note:** Before I proceed to the assignment, I want to become familiar with the data."
   ]
  },
  {
   "cell_type": "markdown",
   "metadata": {},
   "source": [
    "import"
   ]
  },
  {
   "cell_type": "code",
   "execution_count": 1,
   "metadata": {},
   "outputs": [],
   "source": [
    "import numpy as np\n",
    "import pandas as pd\n",
    "import seaborn as sns\n",
    "import matplotlib.pyplot as plt\n",
    "from scipy import stats\n",
    "import src.eda as eda\n",
    "\n",
    "sns.set_palette('Set2')\n",
    "\n",
    "import warnings\n",
    "warnings.filterwarnings('ignore')"
   ]
  },
  {
   "cell_type": "markdown",
   "metadata": {},
   "source": [
    "load the data"
   ]
  },
  {
   "cell_type": "code",
   "execution_count": 52,
   "metadata": {},
   "outputs": [],
   "source": [
    "df = pd.read_excel(\"data/Company_X_Q3.xlsx\")"
   ]
  },
  {
   "cell_type": "code",
   "execution_count": 53,
   "metadata": {},
   "outputs": [
    {
     "data": {
      "text/plain": [
       "(2735, 9)"
      ]
     },
     "execution_count": 53,
     "metadata": {},
     "output_type": "execute_result"
    }
   ],
   "source": [
    "df.shape"
   ]
  },
  {
   "cell_type": "code",
   "execution_count": 54,
   "metadata": {},
   "outputs": [
    {
     "data": {
      "text/plain": [
       "Index(['Order Number', 'Order Date', 'Customer ID', 'Quantity Sold',\n",
       "       'Sales Revenue', 'Cost of Goods Sold', 'Distribution Cost',\n",
       "       'Shipping Revenue', 'Shipping Cost'],\n",
       "      dtype='object')"
      ]
     },
     "execution_count": 54,
     "metadata": {},
     "output_type": "execute_result"
    }
   ],
   "source": [
    "df.columns"
   ]
  },
  {
   "cell_type": "code",
   "execution_count": 55,
   "metadata": {},
   "outputs": [
    {
     "data": {
      "text/html": [
       "<div>\n",
       "<style>\n",
       "    .dataframe thead tr:only-child th {\n",
       "        text-align: right;\n",
       "    }\n",
       "\n",
       "    .dataframe thead th {\n",
       "        text-align: left;\n",
       "    }\n",
       "\n",
       "    .dataframe tbody tr th {\n",
       "        vertical-align: top;\n",
       "    }\n",
       "</style>\n",
       "<table border=\"1\" class=\"dataframe\">\n",
       "  <thead>\n",
       "    <tr style=\"text-align: right;\">\n",
       "      <th></th>\n",
       "      <th>Order Number</th>\n",
       "      <th>Order Date</th>\n",
       "      <th>Customer ID</th>\n",
       "      <th>Quantity Sold</th>\n",
       "      <th>Sales Revenue</th>\n",
       "      <th>Cost of Goods Sold</th>\n",
       "      <th>Distribution Cost</th>\n",
       "      <th>Shipping Revenue</th>\n",
       "      <th>Shipping Cost</th>\n",
       "    </tr>\n",
       "  </thead>\n",
       "  <tbody>\n",
       "    <tr>\n",
       "      <th>0</th>\n",
       "      <td>2</td>\n",
       "      <td>2018-10-01</td>\n",
       "      <td>24</td>\n",
       "      <td>4</td>\n",
       "      <td>11.73</td>\n",
       "      <td>4.84</td>\n",
       "      <td>0.4</td>\n",
       "      <td>4</td>\n",
       "      <td>1.00</td>\n",
       "    </tr>\n",
       "    <tr>\n",
       "      <th>1</th>\n",
       "      <td>3</td>\n",
       "      <td>2018-10-01</td>\n",
       "      <td>200</td>\n",
       "      <td>3</td>\n",
       "      <td>6.33</td>\n",
       "      <td>2.52</td>\n",
       "      <td>0.3</td>\n",
       "      <td>20</td>\n",
       "      <td>0.75</td>\n",
       "    </tr>\n",
       "    <tr>\n",
       "      <th>2</th>\n",
       "      <td>5</td>\n",
       "      <td>2018-10-01</td>\n",
       "      <td>76</td>\n",
       "      <td>5</td>\n",
       "      <td>21.37</td>\n",
       "      <td>8.93</td>\n",
       "      <td>0.5</td>\n",
       "      <td>9</td>\n",
       "      <td>1.25</td>\n",
       "    </tr>\n",
       "    <tr>\n",
       "      <th>3</th>\n",
       "      <td>7</td>\n",
       "      <td>2018-10-01</td>\n",
       "      <td>527</td>\n",
       "      <td>9</td>\n",
       "      <td>52.47</td>\n",
       "      <td>21.49</td>\n",
       "      <td>0.9</td>\n",
       "      <td>9</td>\n",
       "      <td>2.25</td>\n",
       "    </tr>\n",
       "    <tr>\n",
       "      <th>4</th>\n",
       "      <td>8</td>\n",
       "      <td>2018-10-01</td>\n",
       "      <td>991</td>\n",
       "      <td>1</td>\n",
       "      <td>2.79</td>\n",
       "      <td>1.23</td>\n",
       "      <td>0.1</td>\n",
       "      <td>20</td>\n",
       "      <td>0.25</td>\n",
       "    </tr>\n",
       "    <tr>\n",
       "      <th>5</th>\n",
       "      <td>9</td>\n",
       "      <td>2018-10-01</td>\n",
       "      <td>801</td>\n",
       "      <td>3</td>\n",
       "      <td>12.30</td>\n",
       "      <td>5.91</td>\n",
       "      <td>0.3</td>\n",
       "      <td>4</td>\n",
       "      <td>0.75</td>\n",
       "    </tr>\n",
       "    <tr>\n",
       "      <th>6</th>\n",
       "      <td>14</td>\n",
       "      <td>2018-10-01</td>\n",
       "      <td>227</td>\n",
       "      <td>5</td>\n",
       "      <td>11.61</td>\n",
       "      <td>4.63</td>\n",
       "      <td>0.5</td>\n",
       "      <td>20</td>\n",
       "      <td>1.25</td>\n",
       "    </tr>\n",
       "    <tr>\n",
       "      <th>7</th>\n",
       "      <td>15</td>\n",
       "      <td>2018-10-01</td>\n",
       "      <td>469</td>\n",
       "      <td>8</td>\n",
       "      <td>46.47</td>\n",
       "      <td>17.78</td>\n",
       "      <td>0.8</td>\n",
       "      <td>20</td>\n",
       "      <td>2.00</td>\n",
       "    </tr>\n",
       "    <tr>\n",
       "      <th>8</th>\n",
       "      <td>16</td>\n",
       "      <td>2018-10-01</td>\n",
       "      <td>302</td>\n",
       "      <td>1</td>\n",
       "      <td>6.92</td>\n",
       "      <td>3.04</td>\n",
       "      <td>0.1</td>\n",
       "      <td>4</td>\n",
       "      <td>0.25</td>\n",
       "    </tr>\n",
       "    <tr>\n",
       "      <th>9</th>\n",
       "      <td>18</td>\n",
       "      <td>2018-10-01</td>\n",
       "      <td>251</td>\n",
       "      <td>2</td>\n",
       "      <td>6.44</td>\n",
       "      <td>2.38</td>\n",
       "      <td>0.2</td>\n",
       "      <td>9</td>\n",
       "      <td>0.50</td>\n",
       "    </tr>\n",
       "  </tbody>\n",
       "</table>\n",
       "</div>"
      ],
      "text/plain": [
       "   Order Number Order Date  Customer ID  Quantity Sold  Sales Revenue  \\\n",
       "0             2 2018-10-01           24              4          11.73   \n",
       "1             3 2018-10-01          200              3           6.33   \n",
       "2             5 2018-10-01           76              5          21.37   \n",
       "3             7 2018-10-01          527              9          52.47   \n",
       "4             8 2018-10-01          991              1           2.79   \n",
       "5             9 2018-10-01          801              3          12.30   \n",
       "6            14 2018-10-01          227              5          11.61   \n",
       "7            15 2018-10-01          469              8          46.47   \n",
       "8            16 2018-10-01          302              1           6.92   \n",
       "9            18 2018-10-01          251              2           6.44   \n",
       "\n",
       "   Cost of Goods Sold  Distribution Cost  Shipping Revenue  Shipping Cost  \n",
       "0                4.84                0.4                 4           1.00  \n",
       "1                2.52                0.3                20           0.75  \n",
       "2                8.93                0.5                 9           1.25  \n",
       "3               21.49                0.9                 9           2.25  \n",
       "4                1.23                0.1                20           0.25  \n",
       "5                5.91                0.3                 4           0.75  \n",
       "6                4.63                0.5                20           1.25  \n",
       "7               17.78                0.8                20           2.00  \n",
       "8                3.04                0.1                 4           0.25  \n",
       "9                2.38                0.2                 9           0.50  "
      ]
     },
     "execution_count": 55,
     "metadata": {},
     "output_type": "execute_result"
    }
   ],
   "source": [
    "df.head(10)"
   ]
  },
  {
   "cell_type": "code",
   "execution_count": 56,
   "metadata": {},
   "outputs": [
    {
     "name": "stdout",
     "output_type": "stream",
     "text": [
      "<class 'pandas.core.frame.DataFrame'>\n",
      "RangeIndex: 2735 entries, 0 to 2734\n",
      "Data columns (total 9 columns):\n",
      "Order Number          2735 non-null int64\n",
      "Order Date            2735 non-null datetime64[ns]\n",
      "Customer ID           2735 non-null int64\n",
      "Quantity Sold         2735 non-null int64\n",
      "Sales Revenue         2735 non-null float64\n",
      "Cost of Goods Sold    2735 non-null float64\n",
      "Distribution Cost     2735 non-null float64\n",
      "Shipping Revenue      2735 non-null int64\n",
      "Shipping Cost         2735 non-null float64\n",
      "dtypes: datetime64[ns](1), float64(4), int64(4)\n",
      "memory usage: 192.4 KB\n"
     ]
    }
   ],
   "source": [
    "df.info()"
   ]
  },
  {
   "cell_type": "markdown",
   "metadata": {},
   "source": [
    "Any awkward data points such as negative sales revenue? "
   ]
  },
  {
   "cell_type": "code",
   "execution_count": 57,
   "metadata": {},
   "outputs": [
    {
     "data": {
      "text/html": [
       "<div>\n",
       "<style>\n",
       "    .dataframe thead tr:only-child th {\n",
       "        text-align: right;\n",
       "    }\n",
       "\n",
       "    .dataframe thead th {\n",
       "        text-align: left;\n",
       "    }\n",
       "\n",
       "    .dataframe tbody tr th {\n",
       "        vertical-align: top;\n",
       "    }\n",
       "</style>\n",
       "<table border=\"1\" class=\"dataframe\">\n",
       "  <thead>\n",
       "    <tr style=\"text-align: right;\">\n",
       "      <th></th>\n",
       "      <th>Order Number</th>\n",
       "      <th>Customer ID</th>\n",
       "      <th>Quantity Sold</th>\n",
       "      <th>Sales Revenue</th>\n",
       "      <th>Cost of Goods Sold</th>\n",
       "      <th>Distribution Cost</th>\n",
       "      <th>Shipping Revenue</th>\n",
       "      <th>Shipping Cost</th>\n",
       "    </tr>\n",
       "  </thead>\n",
       "  <tbody>\n",
       "    <tr>\n",
       "      <th>count</th>\n",
       "      <td>2735.000000</td>\n",
       "      <td>2735.000000</td>\n",
       "      <td>2735.000000</td>\n",
       "      <td>2735.000000</td>\n",
       "      <td>2735.000000</td>\n",
       "      <td>2735.000000</td>\n",
       "      <td>2735.000000</td>\n",
       "      <td>2735.000000</td>\n",
       "    </tr>\n",
       "    <tr>\n",
       "      <th>mean</th>\n",
       "      <td>1875.972212</td>\n",
       "      <td>508.243510</td>\n",
       "      <td>5.537112</td>\n",
       "      <td>27.543755</td>\n",
       "      <td>11.403466</td>\n",
       "      <td>0.553711</td>\n",
       "      <td>10.990859</td>\n",
       "      <td>1.384278</td>\n",
       "    </tr>\n",
       "    <tr>\n",
       "      <th>std</th>\n",
       "      <td>1066.460054</td>\n",
       "      <td>291.118429</td>\n",
       "      <td>3.580099</td>\n",
       "      <td>19.669939</td>\n",
       "      <td>8.180279</td>\n",
       "      <td>0.358010</td>\n",
       "      <td>6.706698</td>\n",
       "      <td>0.895025</td>\n",
       "    </tr>\n",
       "    <tr>\n",
       "      <th>min</th>\n",
       "      <td>2.000000</td>\n",
       "      <td>1.000000</td>\n",
       "      <td>1.000000</td>\n",
       "      <td>2.100000</td>\n",
       "      <td>0.820000</td>\n",
       "      <td>0.100000</td>\n",
       "      <td>4.000000</td>\n",
       "      <td>0.250000</td>\n",
       "    </tr>\n",
       "    <tr>\n",
       "      <th>25%</th>\n",
       "      <td>965.500000</td>\n",
       "      <td>255.000000</td>\n",
       "      <td>3.000000</td>\n",
       "      <td>13.000000</td>\n",
       "      <td>5.280000</td>\n",
       "      <td>0.300000</td>\n",
       "      <td>4.000000</td>\n",
       "      <td>0.750000</td>\n",
       "    </tr>\n",
       "    <tr>\n",
       "      <th>50%</th>\n",
       "      <td>1875.000000</td>\n",
       "      <td>511.000000</td>\n",
       "      <td>5.000000</td>\n",
       "      <td>23.070000</td>\n",
       "      <td>9.550000</td>\n",
       "      <td>0.500000</td>\n",
       "      <td>9.000000</td>\n",
       "      <td>1.250000</td>\n",
       "    </tr>\n",
       "    <tr>\n",
       "      <th>75%</th>\n",
       "      <td>2798.000000</td>\n",
       "      <td>763.000000</td>\n",
       "      <td>7.000000</td>\n",
       "      <td>37.510000</td>\n",
       "      <td>15.505000</td>\n",
       "      <td>0.700000</td>\n",
       "      <td>20.000000</td>\n",
       "      <td>1.750000</td>\n",
       "    </tr>\n",
       "    <tr>\n",
       "      <th>max</th>\n",
       "      <td>3720.000000</td>\n",
       "      <td>1000.000000</td>\n",
       "      <td>24.000000</td>\n",
       "      <td>128.040000</td>\n",
       "      <td>51.970000</td>\n",
       "      <td>2.400000</td>\n",
       "      <td>20.000000</td>\n",
       "      <td>6.000000</td>\n",
       "    </tr>\n",
       "  </tbody>\n",
       "</table>\n",
       "</div>"
      ],
      "text/plain": [
       "       Order Number  Customer ID  Quantity Sold  Sales Revenue  \\\n",
       "count   2735.000000  2735.000000    2735.000000    2735.000000   \n",
       "mean    1875.972212   508.243510       5.537112      27.543755   \n",
       "std     1066.460054   291.118429       3.580099      19.669939   \n",
       "min        2.000000     1.000000       1.000000       2.100000   \n",
       "25%      965.500000   255.000000       3.000000      13.000000   \n",
       "50%     1875.000000   511.000000       5.000000      23.070000   \n",
       "75%     2798.000000   763.000000       7.000000      37.510000   \n",
       "max     3720.000000  1000.000000      24.000000     128.040000   \n",
       "\n",
       "       Cost of Goods Sold  Distribution Cost  Shipping Revenue  Shipping Cost  \n",
       "count         2735.000000        2735.000000       2735.000000    2735.000000  \n",
       "mean            11.403466           0.553711         10.990859       1.384278  \n",
       "std              8.180279           0.358010          6.706698       0.895025  \n",
       "min              0.820000           0.100000          4.000000       0.250000  \n",
       "25%              5.280000           0.300000          4.000000       0.750000  \n",
       "50%              9.550000           0.500000          9.000000       1.250000  \n",
       "75%             15.505000           0.700000         20.000000       1.750000  \n",
       "max             51.970000           2.400000         20.000000       6.000000  "
      ]
     },
     "execution_count": 57,
     "metadata": {},
     "output_type": "execute_result"
    }
   ],
   "source": [
    "df.describe() "
   ]
  },
  {
   "cell_type": "code",
   "execution_count": 58,
   "metadata": {},
   "outputs": [
    {
     "data": {
      "text/plain": [
       "array([[<matplotlib.axes._subplots.AxesSubplot object at 0x1a13e68198>,\n",
       "        <matplotlib.axes._subplots.AxesSubplot object at 0x1a13e71c50>,\n",
       "        <matplotlib.axes._subplots.AxesSubplot object at 0x1a13d48e10>],\n",
       "       [<matplotlib.axes._subplots.AxesSubplot object at 0x1a13dd30b8>,\n",
       "        <matplotlib.axes._subplots.AxesSubplot object at 0x1a13e94320>,\n",
       "        <matplotlib.axes._subplots.AxesSubplot object at 0x1a13e39588>],\n",
       "       [<matplotlib.axes._subplots.AxesSubplot object at 0x1a13df47f0>,\n",
       "        <matplotlib.axes._subplots.AxesSubplot object at 0x1a13e1ca90>,\n",
       "        <matplotlib.axes._subplots.AxesSubplot object at 0x1a13e1cac8>]],\n",
       "      dtype=object)"
      ]
     },
     "execution_count": 58,
     "metadata": {},
     "output_type": "execute_result"
    },
    {
     "data": {
      "image/png": "[encoded data removed]",
      "text/plain": [
       "<Figure size 1080x1080 with 9 Axes>"
      ]
     },
     "metadata": {
      "needs_background": "light"
     },
     "output_type": "display_data"
    }
   ],
   "source": [
    "df.hist(figsize = (15,15))"
   ]
  },
  {
   "cell_type": "code",
   "execution_count": 59,
   "metadata": {},
   "outputs": [],
   "source": [
    "# pd.scatter_matrix(df, alpha=0.2, figsize=(15, 15))\n",
    "# plt.show()"
   ]
  },
  {
   "cell_type": "markdown",
   "metadata": {},
   "source": [
    "**Order date**\n",
    "\n",
    "What year, is this?"
   ]
  },
  {
   "cell_type": "code",
   "execution_count": 60,
   "metadata": {},
   "outputs": [
    {
     "data": {
      "text/plain": [
       "array([2018])"
      ]
     },
     "execution_count": 60,
     "metadata": {},
     "output_type": "execute_result"
    }
   ],
   "source": [
    "df['Order Date'].dt.year.unique()"
   ]
  },
  {
   "cell_type": "markdown",
   "metadata": {},
   "source": [
    "What month is it?"
   ]
  },
  {
   "cell_type": "code",
   "execution_count": 61,
   "metadata": {},
   "outputs": [
    {
     "data": {
      "text/plain": [
       "array([10, 11])"
      ]
     },
     "execution_count": 61,
     "metadata": {},
     "output_type": "execute_result"
    }
   ],
   "source": [
    "df['Order Date'].dt.month.unique()"
   ]
  },
  {
   "cell_type": "markdown",
   "metadata": {},
   "source": [
    "Lets create new data_frames to check monthly subsets."
   ]
  },
  {
   "cell_type": "code",
   "execution_count": 63,
   "metadata": {},
   "outputs": [],
   "source": [
    "df_oc = df[df['Order Date'].dt.month == 10]\n",
    "df_nov = df[df['Order Date'].dt.month == 11]  #Let them sit there."
   ]
  },
  {
   "cell_type": "markdown",
   "metadata": {},
   "source": [
    "So this analisis is being done on October and November combined."
   ]
  },
  {
   "cell_type": "code",
   "execution_count": 64,
   "metadata": {},
   "outputs": [
    {
     "name": "stdout",
     "output_type": "stream",
     "text": [
      "(1365, 9)\n",
      "(1370, 9)\n"
     ]
    }
   ],
   "source": [
    "print(df_oc.shape)\n",
    "print(df_nov.shape)"
   ]
  },
  {
   "cell_type": "markdown",
   "metadata": {},
   "source": [
    "**Customer ID**"
   ]
  },
  {
   "cell_type": "code",
   "execution_count": 65,
   "metadata": {},
   "outputs": [
    {
     "data": {
      "text/plain": [
       "564    8\n",
       "483    8\n",
       "713    8\n",
       "709    8\n",
       "429    8\n",
       "Name: Customer ID, dtype: int64"
      ]
     },
     "execution_count": 65,
     "metadata": {},
     "output_type": "execute_result"
    }
   ],
   "source": [
    "df['Customer ID'].value_counts().head()"
   ]
  },
  {
   "cell_type": "markdown",
   "metadata": {},
   "source": [
    "we have some repeating customer IDs and they are high in numbers. Not really relevant for our cause."
   ]
  },
  {
   "cell_type": "markdown",
   "metadata": {},
   "source": [
    "**Distribution Cost**"
   ]
  },
  {
   "cell_type": "markdown",
   "metadata": {},
   "source": [
    "Lets find the total distribution cost."
   ]
  },
  {
   "cell_type": "code",
   "execution_count": 66,
   "metadata": {},
   "outputs": [
    {
     "data": {
      "image/png": "[encoded data removed]",
      "text/plain": [
       "<Figure size 576x432 with 1 Axes>"
      ]
     },
     "metadata": {
      "needs_background": "light"
     },
     "output_type": "display_data"
    },
    {
     "name": "stdout",
     "output_type": "stream",
     "text": [
      "Mean distribution cost per item: $0.55\n"
     ]
    }
   ],
   "source": [
    "\n",
    "df['Distribution Cost'].hist(bins = 30,grid=False, edgecolor='black',figsize =(8,6))\n",
    "mean = df['Distribution Cost'].mean()\n",
    "plt.axvline(mean, color='r')\n",
    "plt.title(f'Distribution Cost Counts', fontsize=20)\n",
    "# sns.barplot(df_visul[categorical],df_visul[numerical_sum])\n",
    "plt.ylabel('Count', fontsize=15)\n",
    "plt.xlabel('Distribution Cost per unit ($)', fontsize=15)\n",
    "plt.xticks(rotation=55, fontsize= 15)\n",
    "plt.yticks(fontsize= 15)\n",
    "plt.show()\n",
    "print(f'Mean distribution cost per item: ${round(mean,2)}')"
   ]
  },
  {
   "cell_type": "markdown",
   "metadata": {},
   "source": [
    "**Total Distribution Cost Per Order** : distribution_cost_total = dist_cost * quantity_sold"
   ]
  },
  {
   "cell_type": "code",
   "execution_count": 67,
   "metadata": {},
   "outputs": [],
   "source": [
    "df['distribution_cost_SQ'] = df['Distribution Cost'] * df['Quantity Sold']"
   ]
  },
  {
   "cell_type": "code",
   "execution_count": 68,
   "metadata": {},
   "outputs": [
    {
     "data": {
      "image/png": "[encoded data removed]",
      "text/plain": [
       "<Figure size 576x288 with 1 Axes>"
      ]
     },
     "metadata": {
      "needs_background": "light"
     },
     "output_type": "display_data"
    },
    {
     "name": "stdout",
     "output_type": "stream",
     "text": [
      "Mean distribution_cost_SQ cost per order is: $4.35\n"
     ]
    }
   ],
   "source": [
    "df['distribution_cost_SQ'].hist(bins = 30,grid=False, edgecolor='black',figsize =(8,4))\n",
    "mean = df['distribution_cost_SQ'].mean()\n",
    "plt.axvline(mean, color='r')\n",
    "plt.title(f'Total distribution_cost_SQ Histogram', fontsize=20)\n",
    "# sns.barplot(df_visul[categorical],df_visul[numerical_sum])\n",
    "plt.ylabel('Count', fontsize=15)\n",
    "plt.xlabel('Total Ddistribution_cost_SQ ($)', fontsize=15)\n",
    "plt.xticks(rotation=55, fontsize= 15)\n",
    "plt.yticks(fontsize= 15)\n",
    "plt.show()\n",
    "print(f'Mean distribution_cost_SQ cost per order is: ${round(mean,2)}')"
   ]
  },
  {
   "cell_type": "markdown",
   "metadata": {},
   "source": [
    "**Quantity Sold**"
   ]
  },
  {
   "cell_type": "code",
   "execution_count": 69,
   "metadata": {},
   "outputs": [
    {
     "data": {
      "text/plain": [
       "<matplotlib.axes._subplots.AxesSubplot at 0x1a13ef9cc0>"
      ]
     },
     "execution_count": 69,
     "metadata": {},
     "output_type": "execute_result"
    },
    {
     "data": {
      "image/png": "[encoded data removed]",
      "text/plain": [
       "<Figure size 432x288 with 1 Axes>"
      ]
     },
     "metadata": {
      "needs_background": "light"
     },
     "output_type": "display_data"
    }
   ],
   "source": [
    "df['Quantity Sold'].hist()"
   ]
  },
  {
   "cell_type": "code",
   "execution_count": 70,
   "metadata": {},
   "outputs": [
    {
     "data": {
      "text/plain": [
       "count    2735.000000\n",
       "mean        5.537112\n",
       "std         3.580099\n",
       "min         1.000000\n",
       "25%         3.000000\n",
       "50%         5.000000\n",
       "75%         7.000000\n",
       "max        24.000000\n",
       "Name: Quantity Sold, dtype: float64"
      ]
     },
     "execution_count": 70,
     "metadata": {},
     "output_type": "execute_result"
    }
   ],
   "source": [
    "df['Quantity Sold'].describe()"
   ]
  },
  {
   "cell_type": "markdown",
   "metadata": {},
   "source": [
    "**Quantity of 3 or More**"
   ]
  },
  {
   "cell_type": "markdown",
   "metadata": {},
   "source": [
    "Number of orders that involved quantities of 3 or more "
   ]
  },
  {
   "cell_type": "code",
   "execution_count": 71,
   "metadata": {},
   "outputs": [
    {
     "data": {
      "text/plain": [
       "2196"
      ]
     },
     "execution_count": 71,
     "metadata": {},
     "output_type": "execute_result"
    }
   ],
   "source": [
    "(df['Quantity Sold'] >= 3).sum() "
   ]
  },
  {
   "cell_type": "markdown",
   "metadata": {},
   "source": [
    "Their Ratio"
   ]
  },
  {
   "cell_type": "code",
   "execution_count": 72,
   "metadata": {},
   "outputs": [
    {
     "name": "stdout",
     "output_type": "stream",
     "text": [
      "ratio of quantities of 3 or more: 80.3%\n"
     ]
    }
   ],
   "source": [
    "print(f'ratio of quantities of 3 or more: {round(((df[\"Quantity Sold\"] >= 3).sum()  / df.shape[0]) * 100,1)}%')"
   ]
  },
  {
   "cell_type": "markdown",
   "metadata": {},
   "source": [
    "The distribution cost cutting deal would be effective for 80% of the given datapoints."
   ]
  },
  {
   "cell_type": "markdown",
   "metadata": {},
   "source": [
    "**new_feature: 3_or_more**: if quantity of items solds is atleast 3, return binary classifier 1."
   ]
  },
  {
   "cell_type": "code",
   "execution_count": 73,
   "metadata": {},
   "outputs": [],
   "source": [
    "def or_more_condition(x):\n",
    "    if x >= 3:\n",
    "        return 1\n",
    "    else:\n",
    "        return 0"
   ]
  },
  {
   "cell_type": "code",
   "execution_count": 74,
   "metadata": {},
   "outputs": [],
   "source": [
    "df['condition'] = df['Quantity Sold'].map(or_more_condition) "
   ]
  },
  {
   "cell_type": "markdown",
   "metadata": {},
   "source": [
    "New Feature: distribution_cost_per_unit \n",
    "    \n",
    "- return 0.9 of Distribution Cost(per unit) on rows the condition is True and Nan if its not\n",
    "- fill nan values with their original unchanged ones where condition is False"
   ]
  },
  {
   "cell_type": "code",
   "execution_count": 75,
   "metadata": {},
   "outputs": [],
   "source": [
    "df.loc[df.condition == 1, 'distribution_cost_per_unit'] = df['Distribution Cost'] * 0.9\n",
    "df.distribution_cost_per_unit = df.distribution_cost_per_unit.fillna(df['Distribution Cost'])"
   ]
  },
  {
   "cell_type": "code",
   "execution_count": 76,
   "metadata": {},
   "outputs": [
    {
     "data": {
      "text/html": [
       "<div>\n",
       "<style>\n",
       "    .dataframe thead tr:only-child th {\n",
       "        text-align: right;\n",
       "    }\n",
       "\n",
       "    .dataframe thead th {\n",
       "        text-align: left;\n",
       "    }\n",
       "\n",
       "    .dataframe tbody tr th {\n",
       "        vertical-align: top;\n",
       "    }\n",
       "</style>\n",
       "<table border=\"1\" class=\"dataframe\">\n",
       "  <thead>\n",
       "    <tr style=\"text-align: right;\">\n",
       "      <th></th>\n",
       "      <th>Quantity Sold</th>\n",
       "      <th>Distribution Cost</th>\n",
       "      <th>distribution_cost_SQ</th>\n",
       "      <th>condition</th>\n",
       "      <th>distribution_cost_per_unit</th>\n",
       "    </tr>\n",
       "  </thead>\n",
       "  <tbody>\n",
       "    <tr>\n",
       "      <th>0</th>\n",
       "      <td>4</td>\n",
       "      <td>0.4</td>\n",
       "      <td>1.6</td>\n",
       "      <td>1</td>\n",
       "      <td>0.36</td>\n",
       "    </tr>\n",
       "    <tr>\n",
       "      <th>1</th>\n",
       "      <td>3</td>\n",
       "      <td>0.3</td>\n",
       "      <td>0.9</td>\n",
       "      <td>1</td>\n",
       "      <td>0.27</td>\n",
       "    </tr>\n",
       "    <tr>\n",
       "      <th>2</th>\n",
       "      <td>5</td>\n",
       "      <td>0.5</td>\n",
       "      <td>2.5</td>\n",
       "      <td>1</td>\n",
       "      <td>0.45</td>\n",
       "    </tr>\n",
       "    <tr>\n",
       "      <th>3</th>\n",
       "      <td>9</td>\n",
       "      <td>0.9</td>\n",
       "      <td>8.1</td>\n",
       "      <td>1</td>\n",
       "      <td>0.81</td>\n",
       "    </tr>\n",
       "    <tr>\n",
       "      <th>4</th>\n",
       "      <td>1</td>\n",
       "      <td>0.1</td>\n",
       "      <td>0.1</td>\n",
       "      <td>0</td>\n",
       "      <td>0.10</td>\n",
       "    </tr>\n",
       "    <tr>\n",
       "      <th>5</th>\n",
       "      <td>3</td>\n",
       "      <td>0.3</td>\n",
       "      <td>0.9</td>\n",
       "      <td>1</td>\n",
       "      <td>0.27</td>\n",
       "    </tr>\n",
       "    <tr>\n",
       "      <th>6</th>\n",
       "      <td>5</td>\n",
       "      <td>0.5</td>\n",
       "      <td>2.5</td>\n",
       "      <td>1</td>\n",
       "      <td>0.45</td>\n",
       "    </tr>\n",
       "    <tr>\n",
       "      <th>7</th>\n",
       "      <td>8</td>\n",
       "      <td>0.8</td>\n",
       "      <td>6.4</td>\n",
       "      <td>1</td>\n",
       "      <td>0.72</td>\n",
       "    </tr>\n",
       "    <tr>\n",
       "      <th>8</th>\n",
       "      <td>1</td>\n",
       "      <td>0.1</td>\n",
       "      <td>0.1</td>\n",
       "      <td>0</td>\n",
       "      <td>0.10</td>\n",
       "    </tr>\n",
       "    <tr>\n",
       "      <th>9</th>\n",
       "      <td>2</td>\n",
       "      <td>0.2</td>\n",
       "      <td>0.4</td>\n",
       "      <td>0</td>\n",
       "      <td>0.20</td>\n",
       "    </tr>\n",
       "  </tbody>\n",
       "</table>\n",
       "</div>"
      ],
      "text/plain": [
       "   Quantity Sold  Distribution Cost  distribution_cost_SQ  condition  \\\n",
       "0              4                0.4                   1.6          1   \n",
       "1              3                0.3                   0.9          1   \n",
       "2              5                0.5                   2.5          1   \n",
       "3              9                0.9                   8.1          1   \n",
       "4              1                0.1                   0.1          0   \n",
       "5              3                0.3                   0.9          1   \n",
       "6              5                0.5                   2.5          1   \n",
       "7              8                0.8                   6.4          1   \n",
       "8              1                0.1                   0.1          0   \n",
       "9              2                0.2                   0.4          0   \n",
       "\n",
       "   distribution_cost_per_unit  \n",
       "0                        0.36  \n",
       "1                        0.27  \n",
       "2                        0.45  \n",
       "3                        0.81  \n",
       "4                        0.10  \n",
       "5                        0.27  \n",
       "6                        0.45  \n",
       "7                        0.72  \n",
       "8                        0.10  \n",
       "9                        0.20  "
      ]
     },
     "execution_count": 76,
     "metadata": {},
     "output_type": "execute_result"
    }
   ],
   "source": [
    "df[['Quantity Sold','Distribution Cost','distribution_cost_SQ','condition','distribution_cost_per_unit']].head(10)"
   ]
  },
  {
   "cell_type": "markdown",
   "metadata": {},
   "source": [
    "**New Feature: dist_cost_change_per_item_sold**\n",
    "\n",
    "returns the difference between old and new distribution costs per item sold:"
   ]
  },
  {
   "cell_type": "code",
   "execution_count": 77,
   "metadata": {},
   "outputs": [],
   "source": [
    "df['dist_cost_change_per_item_sold'] = df['Distribution Cost'] - df['distribution_cost_per_unit']"
   ]
  },
  {
   "cell_type": "code",
   "execution_count": 78,
   "metadata": {},
   "outputs": [
    {
     "data": {
      "text/html": [
       "<div>\n",
       "<style>\n",
       "    .dataframe thead tr:only-child th {\n",
       "        text-align: right;\n",
       "    }\n",
       "\n",
       "    .dataframe thead th {\n",
       "        text-align: left;\n",
       "    }\n",
       "\n",
       "    .dataframe tbody tr th {\n",
       "        vertical-align: top;\n",
       "    }\n",
       "</style>\n",
       "<table border=\"1\" class=\"dataframe\">\n",
       "  <thead>\n",
       "    <tr style=\"text-align: right;\">\n",
       "      <th></th>\n",
       "      <th>Quantity Sold</th>\n",
       "      <th>Distribution Cost</th>\n",
       "      <th>distribution_cost_SQ</th>\n",
       "      <th>condition</th>\n",
       "      <th>distribution_cost_per_unit</th>\n",
       "      <th>dist_cost_change_per_item_sold</th>\n",
       "    </tr>\n",
       "  </thead>\n",
       "  <tbody>\n",
       "    <tr>\n",
       "      <th>0</th>\n",
       "      <td>4</td>\n",
       "      <td>0.4</td>\n",
       "      <td>1.6</td>\n",
       "      <td>1</td>\n",
       "      <td>0.36</td>\n",
       "      <td>0.04</td>\n",
       "    </tr>\n",
       "    <tr>\n",
       "      <th>1</th>\n",
       "      <td>3</td>\n",
       "      <td>0.3</td>\n",
       "      <td>0.9</td>\n",
       "      <td>1</td>\n",
       "      <td>0.27</td>\n",
       "      <td>0.03</td>\n",
       "    </tr>\n",
       "    <tr>\n",
       "      <th>2</th>\n",
       "      <td>5</td>\n",
       "      <td>0.5</td>\n",
       "      <td>2.5</td>\n",
       "      <td>1</td>\n",
       "      <td>0.45</td>\n",
       "      <td>0.05</td>\n",
       "    </tr>\n",
       "    <tr>\n",
       "      <th>3</th>\n",
       "      <td>9</td>\n",
       "      <td>0.9</td>\n",
       "      <td>8.1</td>\n",
       "      <td>1</td>\n",
       "      <td>0.81</td>\n",
       "      <td>0.09</td>\n",
       "    </tr>\n",
       "    <tr>\n",
       "      <th>4</th>\n",
       "      <td>1</td>\n",
       "      <td>0.1</td>\n",
       "      <td>0.1</td>\n",
       "      <td>0</td>\n",
       "      <td>0.10</td>\n",
       "      <td>0.00</td>\n",
       "    </tr>\n",
       "    <tr>\n",
       "      <th>5</th>\n",
       "      <td>3</td>\n",
       "      <td>0.3</td>\n",
       "      <td>0.9</td>\n",
       "      <td>1</td>\n",
       "      <td>0.27</td>\n",
       "      <td>0.03</td>\n",
       "    </tr>\n",
       "    <tr>\n",
       "      <th>6</th>\n",
       "      <td>5</td>\n",
       "      <td>0.5</td>\n",
       "      <td>2.5</td>\n",
       "      <td>1</td>\n",
       "      <td>0.45</td>\n",
       "      <td>0.05</td>\n",
       "    </tr>\n",
       "    <tr>\n",
       "      <th>7</th>\n",
       "      <td>8</td>\n",
       "      <td>0.8</td>\n",
       "      <td>6.4</td>\n",
       "      <td>1</td>\n",
       "      <td>0.72</td>\n",
       "      <td>0.08</td>\n",
       "    </tr>\n",
       "    <tr>\n",
       "      <th>8</th>\n",
       "      <td>1</td>\n",
       "      <td>0.1</td>\n",
       "      <td>0.1</td>\n",
       "      <td>0</td>\n",
       "      <td>0.10</td>\n",
       "      <td>0.00</td>\n",
       "    </tr>\n",
       "    <tr>\n",
       "      <th>9</th>\n",
       "      <td>2</td>\n",
       "      <td>0.2</td>\n",
       "      <td>0.4</td>\n",
       "      <td>0</td>\n",
       "      <td>0.20</td>\n",
       "      <td>0.00</td>\n",
       "    </tr>\n",
       "  </tbody>\n",
       "</table>\n",
       "</div>"
      ],
      "text/plain": [
       "   Quantity Sold  Distribution Cost  distribution_cost_SQ  condition  \\\n",
       "0              4                0.4                   1.6          1   \n",
       "1              3                0.3                   0.9          1   \n",
       "2              5                0.5                   2.5          1   \n",
       "3              9                0.9                   8.1          1   \n",
       "4              1                0.1                   0.1          0   \n",
       "5              3                0.3                   0.9          1   \n",
       "6              5                0.5                   2.5          1   \n",
       "7              8                0.8                   6.4          1   \n",
       "8              1                0.1                   0.1          0   \n",
       "9              2                0.2                   0.4          0   \n",
       "\n",
       "   distribution_cost_per_unit  dist_cost_change_per_item_sold  \n",
       "0                        0.36                            0.04  \n",
       "1                        0.27                            0.03  \n",
       "2                        0.45                            0.05  \n",
       "3                        0.81                            0.09  \n",
       "4                        0.10                            0.00  \n",
       "5                        0.27                            0.03  \n",
       "6                        0.45                            0.05  \n",
       "7                        0.72                            0.08  \n",
       "8                        0.10                            0.00  \n",
       "9                        0.20                            0.00  "
      ]
     },
     "execution_count": 78,
     "metadata": {},
     "output_type": "execute_result"
    }
   ],
   "source": [
    "df[['Quantity Sold','Distribution Cost','distribution_cost_SQ','condition','distribution_cost_per_unit','dist_cost_change_per_item_sold']].head(10)"
   ]
  },
  {
   "cell_type": "markdown",
   "metadata": {},
   "source": [
    "**New Feature: dist_cost_sum_new**\n",
    "\n",
    "returns the sum of new distribution cost"
   ]
  },
  {
   "cell_type": "code",
   "execution_count": 79,
   "metadata": {},
   "outputs": [],
   "source": [
    "df['dist_cost_sum_new'] = df['distribution_cost_per_unit'] * df['Quantity Sold']"
   ]
  },
  {
   "cell_type": "code",
   "execution_count": 80,
   "metadata": {},
   "outputs": [
    {
     "data": {
      "text/html": [
       "<div>\n",
       "<style>\n",
       "    .dataframe thead tr:only-child th {\n",
       "        text-align: right;\n",
       "    }\n",
       "\n",
       "    .dataframe thead th {\n",
       "        text-align: left;\n",
       "    }\n",
       "\n",
       "    .dataframe tbody tr th {\n",
       "        vertical-align: top;\n",
       "    }\n",
       "</style>\n",
       "<table border=\"1\" class=\"dataframe\">\n",
       "  <thead>\n",
       "    <tr style=\"text-align: right;\">\n",
       "      <th></th>\n",
       "      <th>Quantity Sold</th>\n",
       "      <th>Distribution Cost</th>\n",
       "      <th>distribution_cost_SQ</th>\n",
       "      <th>condition</th>\n",
       "      <th>distribution_cost_per_unit</th>\n",
       "      <th>dist_cost_change_per_item_sold</th>\n",
       "      <th>dist_cost_sum_new</th>\n",
       "    </tr>\n",
       "  </thead>\n",
       "  <tbody>\n",
       "    <tr>\n",
       "      <th>0</th>\n",
       "      <td>4</td>\n",
       "      <td>0.4</td>\n",
       "      <td>1.6</td>\n",
       "      <td>1</td>\n",
       "      <td>0.36</td>\n",
       "      <td>0.04</td>\n",
       "      <td>1.44</td>\n",
       "    </tr>\n",
       "    <tr>\n",
       "      <th>1</th>\n",
       "      <td>3</td>\n",
       "      <td>0.3</td>\n",
       "      <td>0.9</td>\n",
       "      <td>1</td>\n",
       "      <td>0.27</td>\n",
       "      <td>0.03</td>\n",
       "      <td>0.81</td>\n",
       "    </tr>\n",
       "    <tr>\n",
       "      <th>2</th>\n",
       "      <td>5</td>\n",
       "      <td>0.5</td>\n",
       "      <td>2.5</td>\n",
       "      <td>1</td>\n",
       "      <td>0.45</td>\n",
       "      <td>0.05</td>\n",
       "      <td>2.25</td>\n",
       "    </tr>\n",
       "    <tr>\n",
       "      <th>3</th>\n",
       "      <td>9</td>\n",
       "      <td>0.9</td>\n",
       "      <td>8.1</td>\n",
       "      <td>1</td>\n",
       "      <td>0.81</td>\n",
       "      <td>0.09</td>\n",
       "      <td>7.29</td>\n",
       "    </tr>\n",
       "    <tr>\n",
       "      <th>4</th>\n",
       "      <td>1</td>\n",
       "      <td>0.1</td>\n",
       "      <td>0.1</td>\n",
       "      <td>0</td>\n",
       "      <td>0.10</td>\n",
       "      <td>0.00</td>\n",
       "      <td>0.10</td>\n",
       "    </tr>\n",
       "    <tr>\n",
       "      <th>5</th>\n",
       "      <td>3</td>\n",
       "      <td>0.3</td>\n",
       "      <td>0.9</td>\n",
       "      <td>1</td>\n",
       "      <td>0.27</td>\n",
       "      <td>0.03</td>\n",
       "      <td>0.81</td>\n",
       "    </tr>\n",
       "    <tr>\n",
       "      <th>6</th>\n",
       "      <td>5</td>\n",
       "      <td>0.5</td>\n",
       "      <td>2.5</td>\n",
       "      <td>1</td>\n",
       "      <td>0.45</td>\n",
       "      <td>0.05</td>\n",
       "      <td>2.25</td>\n",
       "    </tr>\n",
       "    <tr>\n",
       "      <th>7</th>\n",
       "      <td>8</td>\n",
       "      <td>0.8</td>\n",
       "      <td>6.4</td>\n",
       "      <td>1</td>\n",
       "      <td>0.72</td>\n",
       "      <td>0.08</td>\n",
       "      <td>5.76</td>\n",
       "    </tr>\n",
       "    <tr>\n",
       "      <th>8</th>\n",
       "      <td>1</td>\n",
       "      <td>0.1</td>\n",
       "      <td>0.1</td>\n",
       "      <td>0</td>\n",
       "      <td>0.10</td>\n",
       "      <td>0.00</td>\n",
       "      <td>0.10</td>\n",
       "    </tr>\n",
       "    <tr>\n",
       "      <th>9</th>\n",
       "      <td>2</td>\n",
       "      <td>0.2</td>\n",
       "      <td>0.4</td>\n",
       "      <td>0</td>\n",
       "      <td>0.20</td>\n",
       "      <td>0.00</td>\n",
       "      <td>0.40</td>\n",
       "    </tr>\n",
       "  </tbody>\n",
       "</table>\n",
       "</div>"
      ],
      "text/plain": [
       "   Quantity Sold  Distribution Cost  distribution_cost_SQ  condition  \\\n",
       "0              4                0.4                   1.6          1   \n",
       "1              3                0.3                   0.9          1   \n",
       "2              5                0.5                   2.5          1   \n",
       "3              9                0.9                   8.1          1   \n",
       "4              1                0.1                   0.1          0   \n",
       "5              3                0.3                   0.9          1   \n",
       "6              5                0.5                   2.5          1   \n",
       "7              8                0.8                   6.4          1   \n",
       "8              1                0.1                   0.1          0   \n",
       "9              2                0.2                   0.4          0   \n",
       "\n",
       "   distribution_cost_per_unit  dist_cost_change_per_item_sold  \\\n",
       "0                        0.36                            0.04   \n",
       "1                        0.27                            0.03   \n",
       "2                        0.45                            0.05   \n",
       "3                        0.81                            0.09   \n",
       "4                        0.10                            0.00   \n",
       "5                        0.27                            0.03   \n",
       "6                        0.45                            0.05   \n",
       "7                        0.72                            0.08   \n",
       "8                        0.10                            0.00   \n",
       "9                        0.20                            0.00   \n",
       "\n",
       "   dist_cost_sum_new  \n",
       "0               1.44  \n",
       "1               0.81  \n",
       "2               2.25  \n",
       "3               7.29  \n",
       "4               0.10  \n",
       "5               0.81  \n",
       "6               2.25  \n",
       "7               5.76  \n",
       "8               0.10  \n",
       "9               0.40  "
      ]
     },
     "execution_count": 80,
     "metadata": {},
     "output_type": "execute_result"
    }
   ],
   "source": [
    "df[['Quantity Sold','Distribution Cost','distribution_cost_SQ','condition',\n",
    "    'distribution_cost_per_unit','dist_cost_change_per_item_sold','dist_cost_sum_new']].head(10)"
   ]
  },
  {
   "cell_type": "markdown",
   "metadata": {},
   "source": [
    "**New Feature: dist_cost_sum_change**\n",
    "\n",
    "returns the change(decrease) in the sum of distribution costs."
   ]
  },
  {
   "cell_type": "code",
   "execution_count": 81,
   "metadata": {},
   "outputs": [],
   "source": [
    "df['dist_cost_sum_change'] = df['distribution_cost_SQ'] - df['dist_cost_sum_new']"
   ]
  },
  {
   "cell_type": "code",
   "execution_count": 82,
   "metadata": {},
   "outputs": [
    {
     "data": {
      "text/html": [
       "<div>\n",
       "<style>\n",
       "    .dataframe thead tr:only-child th {\n",
       "        text-align: right;\n",
       "    }\n",
       "\n",
       "    .dataframe thead th {\n",
       "        text-align: left;\n",
       "    }\n",
       "\n",
       "    .dataframe tbody tr th {\n",
       "        vertical-align: top;\n",
       "    }\n",
       "</style>\n",
       "<table border=\"1\" class=\"dataframe\">\n",
       "  <thead>\n",
       "    <tr style=\"text-align: right;\">\n",
       "      <th></th>\n",
       "      <th>Quantity Sold</th>\n",
       "      <th>Distribution Cost</th>\n",
       "      <th>distribution_cost_SQ</th>\n",
       "      <th>condition</th>\n",
       "      <th>distribution_cost_per_unit</th>\n",
       "      <th>dist_cost_change_per_item_sold</th>\n",
       "      <th>dist_cost_sum_new</th>\n",
       "      <th>dist_cost_sum_change</th>\n",
       "    </tr>\n",
       "  </thead>\n",
       "  <tbody>\n",
       "    <tr>\n",
       "      <th>0</th>\n",
       "      <td>4</td>\n",
       "      <td>0.4</td>\n",
       "      <td>1.6</td>\n",
       "      <td>1</td>\n",
       "      <td>0.36</td>\n",
       "      <td>0.04</td>\n",
       "      <td>1.44</td>\n",
       "      <td>0.16</td>\n",
       "    </tr>\n",
       "    <tr>\n",
       "      <th>1</th>\n",
       "      <td>3</td>\n",
       "      <td>0.3</td>\n",
       "      <td>0.9</td>\n",
       "      <td>1</td>\n",
       "      <td>0.27</td>\n",
       "      <td>0.03</td>\n",
       "      <td>0.81</td>\n",
       "      <td>0.09</td>\n",
       "    </tr>\n",
       "    <tr>\n",
       "      <th>2</th>\n",
       "      <td>5</td>\n",
       "      <td>0.5</td>\n",
       "      <td>2.5</td>\n",
       "      <td>1</td>\n",
       "      <td>0.45</td>\n",
       "      <td>0.05</td>\n",
       "      <td>2.25</td>\n",
       "      <td>0.25</td>\n",
       "    </tr>\n",
       "    <tr>\n",
       "      <th>3</th>\n",
       "      <td>9</td>\n",
       "      <td>0.9</td>\n",
       "      <td>8.1</td>\n",
       "      <td>1</td>\n",
       "      <td>0.81</td>\n",
       "      <td>0.09</td>\n",
       "      <td>7.29</td>\n",
       "      <td>0.81</td>\n",
       "    </tr>\n",
       "    <tr>\n",
       "      <th>4</th>\n",
       "      <td>1</td>\n",
       "      <td>0.1</td>\n",
       "      <td>0.1</td>\n",
       "      <td>0</td>\n",
       "      <td>0.10</td>\n",
       "      <td>0.00</td>\n",
       "      <td>0.10</td>\n",
       "      <td>0.00</td>\n",
       "    </tr>\n",
       "    <tr>\n",
       "      <th>5</th>\n",
       "      <td>3</td>\n",
       "      <td>0.3</td>\n",
       "      <td>0.9</td>\n",
       "      <td>1</td>\n",
       "      <td>0.27</td>\n",
       "      <td>0.03</td>\n",
       "      <td>0.81</td>\n",
       "      <td>0.09</td>\n",
       "    </tr>\n",
       "    <tr>\n",
       "      <th>6</th>\n",
       "      <td>5</td>\n",
       "      <td>0.5</td>\n",
       "      <td>2.5</td>\n",
       "      <td>1</td>\n",
       "      <td>0.45</td>\n",
       "      <td>0.05</td>\n",
       "      <td>2.25</td>\n",
       "      <td>0.25</td>\n",
       "    </tr>\n",
       "    <tr>\n",
       "      <th>7</th>\n",
       "      <td>8</td>\n",
       "      <td>0.8</td>\n",
       "      <td>6.4</td>\n",
       "      <td>1</td>\n",
       "      <td>0.72</td>\n",
       "      <td>0.08</td>\n",
       "      <td>5.76</td>\n",
       "      <td>0.64</td>\n",
       "    </tr>\n",
       "    <tr>\n",
       "      <th>8</th>\n",
       "      <td>1</td>\n",
       "      <td>0.1</td>\n",
       "      <td>0.1</td>\n",
       "      <td>0</td>\n",
       "      <td>0.10</td>\n",
       "      <td>0.00</td>\n",
       "      <td>0.10</td>\n",
       "      <td>0.00</td>\n",
       "    </tr>\n",
       "    <tr>\n",
       "      <th>9</th>\n",
       "      <td>2</td>\n",
       "      <td>0.2</td>\n",
       "      <td>0.4</td>\n",
       "      <td>0</td>\n",
       "      <td>0.20</td>\n",
       "      <td>0.00</td>\n",
       "      <td>0.40</td>\n",
       "      <td>0.00</td>\n",
       "    </tr>\n",
       "  </tbody>\n",
       "</table>\n",
       "</div>"
      ],
      "text/plain": [
       "   Quantity Sold  Distribution Cost  distribution_cost_SQ  condition  \\\n",
       "0              4                0.4                   1.6          1   \n",
       "1              3                0.3                   0.9          1   \n",
       "2              5                0.5                   2.5          1   \n",
       "3              9                0.9                   8.1          1   \n",
       "4              1                0.1                   0.1          0   \n",
       "5              3                0.3                   0.9          1   \n",
       "6              5                0.5                   2.5          1   \n",
       "7              8                0.8                   6.4          1   \n",
       "8              1                0.1                   0.1          0   \n",
       "9              2                0.2                   0.4          0   \n",
       "\n",
       "   distribution_cost_per_unit  dist_cost_change_per_item_sold  \\\n",
       "0                        0.36                            0.04   \n",
       "1                        0.27                            0.03   \n",
       "2                        0.45                            0.05   \n",
       "3                        0.81                            0.09   \n",
       "4                        0.10                            0.00   \n",
       "5                        0.27                            0.03   \n",
       "6                        0.45                            0.05   \n",
       "7                        0.72                            0.08   \n",
       "8                        0.10                            0.00   \n",
       "9                        0.20                            0.00   \n",
       "\n",
       "   dist_cost_sum_new  dist_cost_sum_change  \n",
       "0               1.44                  0.16  \n",
       "1               0.81                  0.09  \n",
       "2               2.25                  0.25  \n",
       "3               7.29                  0.81  \n",
       "4               0.10                  0.00  \n",
       "5               0.81                  0.09  \n",
       "6               2.25                  0.25  \n",
       "7               5.76                  0.64  \n",
       "8               0.10                  0.00  \n",
       "9               0.40                  0.00  "
      ]
     },
     "execution_count": 82,
     "metadata": {},
     "output_type": "execute_result"
    }
   ],
   "source": [
    "df[['Quantity Sold','Distribution Cost','distribution_cost_SQ','condition',\n",
    "    'distribution_cost_per_unit','dist_cost_change_per_item_sold','dist_cost_sum_new','dist_cost_sum_change']].head(10)"
   ]
  },
  {
   "cell_type": "code",
   "execution_count": 83,
   "metadata": {},
   "outputs": [
    {
     "name": "stdout",
     "output_type": "stream",
     "text": [
      "Total distribution cost before the deal: 11890\n",
      "Total distribution cost after the deal: 10715\n",
      "difference(decrease) : $1175\n",
      "Decrease as a percentage of old distribution cost 9.9%\n"
     ]
    }
   ],
   "source": [
    "print(f\"Total distribution cost before the deal: {round(df.distribution_cost_SQ.sum())}\")\n",
    "print(f\"Total distribution cost after the deal: {round(df.dist_cost_sum_new.sum())}\")\n",
    "print(f'difference(decrease) : ${round(df.distribution_cost_SQ.sum() - df.dist_cost_sum_new.sum())}')\n",
    "print(f\"Decrease as a percentage of old distribution cost {round((df.distribution_cost_SQ.sum() - df.dist_cost_sum_new.sum()) / df.distribution_cost_SQ.sum(),3)*100}%\")"
   ]
  },
  {
   "cell_type": "code",
   "execution_count": 84,
   "metadata": {},
   "outputs": [
    {
     "data": {
      "text/plain": [
       "0.09882502354999348"
      ]
     },
     "execution_count": 84,
     "metadata": {},
     "output_type": "execute_result"
    }
   ],
   "source": [
    "(df.distribution_cost_SQ.sum() - df.dist_cost_sum_new.sum()) / df.distribution_cost_SQ.sum()"
   ]
  },
  {
   "cell_type": "markdown",
   "metadata": {},
   "source": [
    "**Total Cost Status Quo**"
   ]
  },
  {
   "cell_type": "code",
   "execution_count": 85,
   "metadata": {},
   "outputs": [
    {
     "data": {
      "text/html": [
       "<div>\n",
       "<style>\n",
       "    .dataframe thead tr:only-child th {\n",
       "        text-align: right;\n",
       "    }\n",
       "\n",
       "    .dataframe thead th {\n",
       "        text-align: left;\n",
       "    }\n",
       "\n",
       "    .dataframe tbody tr th {\n",
       "        vertical-align: top;\n",
       "    }\n",
       "</style>\n",
       "<table border=\"1\" class=\"dataframe\">\n",
       "  <thead>\n",
       "    <tr style=\"text-align: right;\">\n",
       "      <th></th>\n",
       "      <th>Order Number</th>\n",
       "      <th>Order Date</th>\n",
       "      <th>Customer ID</th>\n",
       "      <th>Quantity Sold</th>\n",
       "      <th>Sales Revenue</th>\n",
       "      <th>Cost of Goods Sold</th>\n",
       "      <th>Distribution Cost</th>\n",
       "      <th>Shipping Revenue</th>\n",
       "      <th>Shipping Cost</th>\n",
       "      <th>distribution_cost_SQ</th>\n",
       "      <th>condition</th>\n",
       "      <th>distribution_cost_per_unit</th>\n",
       "      <th>dist_cost_change_per_item_sold</th>\n",
       "      <th>dist_cost_sum_new</th>\n",
       "      <th>dist_cost_sum_change</th>\n",
       "    </tr>\n",
       "  </thead>\n",
       "  <tbody>\n",
       "    <tr>\n",
       "      <th>0</th>\n",
       "      <td>2</td>\n",
       "      <td>2018-10-01</td>\n",
       "      <td>24</td>\n",
       "      <td>4</td>\n",
       "      <td>11.73</td>\n",
       "      <td>4.84</td>\n",
       "      <td>0.4</td>\n",
       "      <td>4</td>\n",
       "      <td>1.00</td>\n",
       "      <td>1.6</td>\n",
       "      <td>1</td>\n",
       "      <td>0.36</td>\n",
       "      <td>0.04</td>\n",
       "      <td>1.44</td>\n",
       "      <td>0.16</td>\n",
       "    </tr>\n",
       "    <tr>\n",
       "      <th>1</th>\n",
       "      <td>3</td>\n",
       "      <td>2018-10-01</td>\n",
       "      <td>200</td>\n",
       "      <td>3</td>\n",
       "      <td>6.33</td>\n",
       "      <td>2.52</td>\n",
       "      <td>0.3</td>\n",
       "      <td>20</td>\n",
       "      <td>0.75</td>\n",
       "      <td>0.9</td>\n",
       "      <td>1</td>\n",
       "      <td>0.27</td>\n",
       "      <td>0.03</td>\n",
       "      <td>0.81</td>\n",
       "      <td>0.09</td>\n",
       "    </tr>\n",
       "    <tr>\n",
       "      <th>2</th>\n",
       "      <td>5</td>\n",
       "      <td>2018-10-01</td>\n",
       "      <td>76</td>\n",
       "      <td>5</td>\n",
       "      <td>21.37</td>\n",
       "      <td>8.93</td>\n",
       "      <td>0.5</td>\n",
       "      <td>9</td>\n",
       "      <td>1.25</td>\n",
       "      <td>2.5</td>\n",
       "      <td>1</td>\n",
       "      <td>0.45</td>\n",
       "      <td>0.05</td>\n",
       "      <td>2.25</td>\n",
       "      <td>0.25</td>\n",
       "    </tr>\n",
       "    <tr>\n",
       "      <th>3</th>\n",
       "      <td>7</td>\n",
       "      <td>2018-10-01</td>\n",
       "      <td>527</td>\n",
       "      <td>9</td>\n",
       "      <td>52.47</td>\n",
       "      <td>21.49</td>\n",
       "      <td>0.9</td>\n",
       "      <td>9</td>\n",
       "      <td>2.25</td>\n",
       "      <td>8.1</td>\n",
       "      <td>1</td>\n",
       "      <td>0.81</td>\n",
       "      <td>0.09</td>\n",
       "      <td>7.29</td>\n",
       "      <td>0.81</td>\n",
       "    </tr>\n",
       "    <tr>\n",
       "      <th>4</th>\n",
       "      <td>8</td>\n",
       "      <td>2018-10-01</td>\n",
       "      <td>991</td>\n",
       "      <td>1</td>\n",
       "      <td>2.79</td>\n",
       "      <td>1.23</td>\n",
       "      <td>0.1</td>\n",
       "      <td>20</td>\n",
       "      <td>0.25</td>\n",
       "      <td>0.1</td>\n",
       "      <td>0</td>\n",
       "      <td>0.10</td>\n",
       "      <td>0.00</td>\n",
       "      <td>0.10</td>\n",
       "      <td>0.00</td>\n",
       "    </tr>\n",
       "  </tbody>\n",
       "</table>\n",
       "</div>"
      ],
      "text/plain": [
       "   Order Number Order Date  Customer ID  Quantity Sold  Sales Revenue  \\\n",
       "0             2 2018-10-01           24              4          11.73   \n",
       "1             3 2018-10-01          200              3           6.33   \n",
       "2             5 2018-10-01           76              5          21.37   \n",
       "3             7 2018-10-01          527              9          52.47   \n",
       "4             8 2018-10-01          991              1           2.79   \n",
       "\n",
       "   Cost of Goods Sold  Distribution Cost  Shipping Revenue  Shipping Cost  \\\n",
       "0                4.84                0.4                 4           1.00   \n",
       "1                2.52                0.3                20           0.75   \n",
       "2                8.93                0.5                 9           1.25   \n",
       "3               21.49                0.9                 9           2.25   \n",
       "4                1.23                0.1                20           0.25   \n",
       "\n",
       "   distribution_cost_SQ  condition  distribution_cost_per_unit  \\\n",
       "0                   1.6          1                        0.36   \n",
       "1                   0.9          1                        0.27   \n",
       "2                   2.5          1                        0.45   \n",
       "3                   8.1          1                        0.81   \n",
       "4                   0.1          0                        0.10   \n",
       "\n",
       "   dist_cost_change_per_item_sold  dist_cost_sum_new  dist_cost_sum_change  \n",
       "0                            0.04               1.44                  0.16  \n",
       "1                            0.03               0.81                  0.09  \n",
       "2                            0.05               2.25                  0.25  \n",
       "3                            0.09               7.29                  0.81  \n",
       "4                            0.00               0.10                  0.00  "
      ]
     },
     "execution_count": 85,
     "metadata": {},
     "output_type": "execute_result"
    }
   ],
   "source": [
    "df.head()"
   ]
  },
  {
   "cell_type": "code",
   "execution_count": 86,
   "metadata": {},
   "outputs": [],
   "source": [
    "df['total_cost_SQ']  = df['Cost of Goods Sold'] + df['distribution_cost_SQ'] + df['Shipping Cost']\n",
    "df['total_cost_new'] = df['Cost of Goods Sold'] + df['dist_cost_sum_new'] + df['Shipping Cost']\n",
    "df['total_cost_change_decrease']            = df['total_cost_SQ'] - df['total_cost_new']\n",
    "df['total_cost_change_decrease_percentage'] = round((df['total_cost_change_decrease'] / df['total_cost_SQ'])*100,1)"
   ]
  },
  {
   "cell_type": "code",
   "execution_count": 87,
   "metadata": {},
   "outputs": [
    {
     "data": {
      "text/html": [
       "<div>\n",
       "<style>\n",
       "    .dataframe thead tr:only-child th {\n",
       "        text-align: right;\n",
       "    }\n",
       "\n",
       "    .dataframe thead th {\n",
       "        text-align: left;\n",
       "    }\n",
       "\n",
       "    .dataframe tbody tr th {\n",
       "        vertical-align: top;\n",
       "    }\n",
       "</style>\n",
       "<table border=\"1\" class=\"dataframe\">\n",
       "  <thead>\n",
       "    <tr style=\"text-align: right;\">\n",
       "      <th></th>\n",
       "      <th>total_cost_SQ</th>\n",
       "      <th>total_cost_new</th>\n",
       "      <th>total_cost_change_decrease</th>\n",
       "      <th>total_cost_change_decrease_percentage</th>\n",
       "    </tr>\n",
       "  </thead>\n",
       "  <tbody>\n",
       "    <tr>\n",
       "      <th>0</th>\n",
       "      <td>7.44</td>\n",
       "      <td>7.28</td>\n",
       "      <td>0.16</td>\n",
       "      <td>2.2</td>\n",
       "    </tr>\n",
       "    <tr>\n",
       "      <th>1</th>\n",
       "      <td>4.17</td>\n",
       "      <td>4.08</td>\n",
       "      <td>0.09</td>\n",
       "      <td>2.2</td>\n",
       "    </tr>\n",
       "    <tr>\n",
       "      <th>2</th>\n",
       "      <td>12.68</td>\n",
       "      <td>12.43</td>\n",
       "      <td>0.25</td>\n",
       "      <td>2.0</td>\n",
       "    </tr>\n",
       "    <tr>\n",
       "      <th>3</th>\n",
       "      <td>31.84</td>\n",
       "      <td>31.03</td>\n",
       "      <td>0.81</td>\n",
       "      <td>2.5</td>\n",
       "    </tr>\n",
       "    <tr>\n",
       "      <th>4</th>\n",
       "      <td>1.58</td>\n",
       "      <td>1.58</td>\n",
       "      <td>0.00</td>\n",
       "      <td>0.0</td>\n",
       "    </tr>\n",
       "  </tbody>\n",
       "</table>\n",
       "</div>"
      ],
      "text/plain": [
       "   total_cost_SQ  total_cost_new  total_cost_change_decrease  \\\n",
       "0           7.44            7.28                        0.16   \n",
       "1           4.17            4.08                        0.09   \n",
       "2          12.68           12.43                        0.25   \n",
       "3          31.84           31.03                        0.81   \n",
       "4           1.58            1.58                        0.00   \n",
       "\n",
       "   total_cost_change_decrease_percentage  \n",
       "0                                    2.2  \n",
       "1                                    2.2  \n",
       "2                                    2.0  \n",
       "3                                    2.5  \n",
       "4                                    0.0  "
      ]
     },
     "execution_count": 87,
     "metadata": {},
     "output_type": "execute_result"
    }
   ],
   "source": [
    "df[['total_cost_SQ','total_cost_new','total_cost_change_decrease','total_cost_change_decrease_percentage']].head()"
   ]
  },
  {
   "cell_type": "markdown",
   "metadata": {},
   "source": [
    "**change of cost as a percentage of total cost**"
   ]
  },
  {
   "cell_type": "code",
   "execution_count": 88,
   "metadata": {},
   "outputs": [
    {
     "name": "stdout",
     "output_type": "stream",
     "text": [
      "total cost before the deal : $46864\n",
      "total cost after the deal : $45689\n",
      "difference(decrease) : $1175\n",
      "Decrease as a percentage of old total cost 2.5%\n"
     ]
    }
   ],
   "source": [
    "print(f'total cost before the deal : ${round(df.total_cost_SQ.sum())}')\n",
    "print(f'total cost after the deal : ${round(df.total_cost_new.sum())}')\n",
    "print(f'difference(decrease) : ${round(df.total_cost_SQ.sum() - df.total_cost_new.sum())}') \n",
    "# should be same with the difference in the distribution cost\n",
    "print(f\"Decrease as a percentage of old total cost {round((df.total_cost_SQ.sum() - df.total_cost_new.sum()) / df.total_cost_SQ.sum(),3)*100}%\")"
   ]
  },
  {
   "cell_type": "markdown",
   "metadata": {},
   "source": [
    "**Revenue** : revenue"
   ]
  },
  {
   "cell_type": "code",
   "execution_count": 89,
   "metadata": {},
   "outputs": [],
   "source": [
    "df['revenue'] = df['Sales Revenue'] + df['Shipping Revenue']"
   ]
  },
  {
   "cell_type": "code",
   "execution_count": 90,
   "metadata": {},
   "outputs": [
    {
     "name": "stdout",
     "output_type": "stream",
     "text": [
      "total revenue: $105392\n"
     ]
    }
   ],
   "source": [
    "print(f'total revenue: ${round(df[\"revenue\"].sum())}')"
   ]
  },
  {
   "cell_type": "markdown",
   "metadata": {},
   "source": [
    "**Old Gross Marjin :** GM_SQ"
   ]
  },
  {
   "cell_type": "code",
   "execution_count": 91,
   "metadata": {},
   "outputs": [],
   "source": [
    "df['GM_SQ'] = df['revenue'] - df['total_cost_SQ']"
   ]
  },
  {
   "cell_type": "code",
   "execution_count": 92,
   "metadata": {},
   "outputs": [
    {
     "name": "stdout",
     "output_type": "stream",
     "text": [
      "Gross Marjin SQ : 58528\n"
     ]
    }
   ],
   "source": [
    "print(f'Gross Marjin SQ : {round(df.GM_SQ.sum())}')"
   ]
  },
  {
   "cell_type": "markdown",
   "metadata": {},
   "source": [
    "**New Gross Marjin:** GM_new"
   ]
  },
  {
   "cell_type": "code",
   "execution_count": 93,
   "metadata": {},
   "outputs": [],
   "source": [
    "df['GM_new'] = df['revenue'] - df['total_cost_new']"
   ]
  },
  {
   "cell_type": "code",
   "execution_count": 94,
   "metadata": {},
   "outputs": [
    {
     "name": "stdout",
     "output_type": "stream",
     "text": [
      "Gross Marjin New : 59703\n"
     ]
    }
   ],
   "source": [
    "print(f'Gross Marjin New : {round(df.GM_new.sum())}')"
   ]
  },
  {
   "cell_type": "markdown",
   "metadata": {},
   "source": [
    "**Gross Marjin Change(increase)**"
   ]
  },
  {
   "cell_type": "code",
   "execution_count": 95,
   "metadata": {},
   "outputs": [],
   "source": [
    "GM_change_increase = round(df['GM_new'].sum() - df['GM_SQ'].sum())\n",
    "# shall be same with decrease in total cost and decrease in total distribution cost"
   ]
  },
  {
   "cell_type": "code",
   "execution_count": 96,
   "metadata": {},
   "outputs": [
    {
     "data": {
      "text/plain": [
       "1175"
      ]
     },
     "execution_count": 96,
     "metadata": {},
     "output_type": "execute_result"
    }
   ],
   "source": [
    "GM_change_increase"
   ]
  },
  {
   "cell_type": "code",
   "execution_count": 97,
   "metadata": {},
   "outputs": [
    {
     "name": "stdout",
     "output_type": "stream",
     "text": [
      "Percentage increase of Gross Marjin: 2.0%\n"
     ]
    }
   ],
   "source": [
    "print(f'Percentage increase of Gross Marjin: {round((GM_change_increase/ df[\"GM_SQ\"].sum())*100,1)}%')"
   ]
  },
  {
   "cell_type": "markdown",
   "metadata": {},
   "source": [
    "**Gross Marjin Impact as a percentage of Total Revenue**"
   ]
  },
  {
   "cell_type": "code",
   "execution_count": 98,
   "metadata": {},
   "outputs": [
    {
     "name": "stdout",
     "output_type": "stream",
     "text": [
      "SQ Gross Marjin as a percentage of total revenue: 55.5%\n",
      "New Gross Marjin as a percentage of total revenue: 56.6%\n",
      "Gross Marjin Positive Impact as a Percentage of Total Revenue: 1.1%\n"
     ]
    }
   ],
   "source": [
    "print(f'SQ Gross Marjin as a percentage of total revenue: {round((df.GM_SQ.sum()/ df[\"revenue\"].sum())*100,1)}%')\n",
    "print(f'New Gross Marjin as a percentage of total revenue: {round((df.GM_new.sum()/ df[\"revenue\"].sum())*100,1)}%')\n",
    "print(f'Gross Marjin Positive Impact as a Percentage of Total Revenue: {round((GM_change_increase/ df[\"revenue\"].sum())*100,1)}%')"
   ]
  },
  {
   "cell_type": "markdown",
   "metadata": {},
   "source": [
    "**Gross Marjin Impact as a percentage of Sales Revenue**\n",
    "\n",
    "I considered the shipment revenue as service revenue. Therefore as I am calculating the impact on gross marjin as a % of monthly sales revenue, I considered only sales revenue.\n"
   ]
  },
  {
   "cell_type": "code",
   "execution_count": 99,
   "metadata": {},
   "outputs": [
    {
     "name": "stdout",
     "output_type": "stream",
     "text": [
      "SQ Gross Marjin as a percentage of sales revenue: 77.7%\n",
      "New Gross Marjin as a percentage of sales revenue: 79.3%\n",
      "Gross Marjin Positive Impact as a Percentage of Sales Revenue: 1.6%\n"
     ]
    }
   ],
   "source": [
    "print(f'SQ Gross Marjin as a percentage of sales revenue: {round((df.GM_SQ.sum()/ df[\"Sales Revenue\"].sum())*100,1)}%')\n",
    "print(f'New Gross Marjin as a percentage of sales revenue: {round((df.GM_new.sum()/ df[\"Sales Revenue\"].sum())*100,1)}%')\n",
    "print(f'Gross Marjin Positive Impact as a Percentage of Sales Revenue: {round((GM_change_increase/ df[\"Sales Revenue\"].sum())*100,1)}%')"
   ]
  },
  {
   "cell_type": "code",
   "execution_count": 100,
   "metadata": {},
   "outputs": [
    {
     "data": {
      "text/plain": [
       "1.6"
      ]
     },
     "execution_count": 100,
     "metadata": {},
     "output_type": "execute_result"
    }
   ],
   "source": [
    "round((GM_change_increase/ df[\"Sales Revenue\"].sum())*100,1)"
   ]
  },
  {
   "cell_type": "markdown",
   "metadata": {},
   "source": [
    "### Conclusion:\n",
    "\n",
    "The impact of the deal on the gross margin is positive. To be more clear, in case the deal is successfully completed the monthly gross margin increases by $587.5 with respect to provided data.\n",
    "\n",
    "The positive impact on the gross margin as a percentage of sales revenue is 1.6%\n",
    "\n",
    "Consequently, depending on the deal cost vs ROI the deal is expected to add financial value to the organization. \n",
    "\n"
   ]
  },
  {
   "cell_type": "markdown",
   "metadata": {},
   "source": [
    "To do next:\n",
    " \n",
    "Add some more comments and visuals.\n",
    "    "
   ]
  },
  {
   "cell_type": "code",
   "execution_count": null,
   "metadata": {},
   "outputs": [],
   "source": []
  },
  {
   "cell_type": "code",
   "execution_count": null,
   "metadata": {},
   "outputs": [],
   "source": []
  },
  {
   "cell_type": "code",
   "execution_count": null,
   "metadata": {},
   "outputs": [],
   "source": []
  },
  {
   "cell_type": "code",
   "execution_count": 50,
   "metadata": {},
   "outputs": [
    {
     "data": {
      "text/plain": [
       "array([[<matplotlib.axes._subplots.AxesSubplot object at 0x1a1cd0e908>,\n",
       "        <matplotlib.axes._subplots.AxesSubplot object at 0x1a1c9b9ba8>,\n",
       "        <matplotlib.axes._subplots.AxesSubplot object at 0x112bb3c50>,\n",
       "        <matplotlib.axes._subplots.AxesSubplot object at 0x1a1ce913c8>,\n",
       "        <matplotlib.axes._subplots.AxesSubplot object at 0x1a1cd1b940>],\n",
       "       [<matplotlib.axes._subplots.AxesSubplot object at 0x112c0beb8>,\n",
       "        <matplotlib.axes._subplots.AxesSubplot object at 0x1a1cd6b390>,\n",
       "        <matplotlib.axes._subplots.AxesSubplot object at 0x1a1cd49940>,\n",
       "        <matplotlib.axes._subplots.AxesSubplot object at 0x1a1cd49978>,\n",
       "        <matplotlib.axes._subplots.AxesSubplot object at 0x1a1ccfe438>],\n",
       "       [<matplotlib.axes._subplots.AxesSubplot object at 0x112c6b9b0>,\n",
       "        <matplotlib.axes._subplots.AxesSubplot object at 0x112ca6f28>,\n",
       "        <matplotlib.axes._subplots.AxesSubplot object at 0x112c9b4e0>,\n",
       "        <matplotlib.axes._subplots.AxesSubplot object at 0x1a1cf00a58>,\n",
       "        <matplotlib.axes._subplots.AxesSubplot object at 0x1a1cfc5fd0>],\n",
       "       [<matplotlib.axes._subplots.AxesSubplot object at 0x1a1cff1588>,\n",
       "        <matplotlib.axes._subplots.AxesSubplot object at 0x1a1d0bbb00>,\n",
       "        <matplotlib.axes._subplots.AxesSubplot object at 0x1a1d0ec0b8>,\n",
       "        <matplotlib.axes._subplots.AxesSubplot object at 0x1a1d111630>,\n",
       "        <matplotlib.axes._subplots.AxesSubplot object at 0x1a1d13cba8>],\n",
       "       [<matplotlib.axes._subplots.AxesSubplot object at 0x1a1d16c160>,\n",
       "        <matplotlib.axes._subplots.AxesSubplot object at 0x1a1d1946d8>,\n",
       "        <matplotlib.axes._subplots.AxesSubplot object at 0x1a1d1bdc50>,\n",
       "        <matplotlib.axes._subplots.AxesSubplot object at 0x1a1d1ed208>,\n",
       "        <matplotlib.axes._subplots.AxesSubplot object at 0x1a1d217780>]],\n",
       "      dtype=object)"
      ]
     },
     "execution_count": 50,
     "metadata": {},
     "output_type": "execute_result"
    },
    {
     "data": {
      "image/png": "[encoded data removed]",
      "text/plain": [
       "<Figure size 1080x1080 with 25 Axes>"
      ]
     },
     "metadata": {
      "needs_background": "light"
     },
     "output_type": "display_data"
    }
   ],
   "source": [
    "df.hist(figsize = (15,15))"
   ]
  }
 ],
 "metadata": {
  "kernelspec": {
   "display_name": "Python 3",
   "language": "python",
   "name": "python3"
  },
  "language_info": {
   "codemirror_mode": {
    "name": "ipython",
    "version": 3
   },
   "file_extension": ".py",
   "mimetype": "text/x-python",
   "name": "python",
   "nbconvert_exporter": "python",
   "pygments_lexer": "ipython3",
   "version": "3.6.3"
  }
 },
 "nbformat": 4,
 "nbformat_minor": 2
}
